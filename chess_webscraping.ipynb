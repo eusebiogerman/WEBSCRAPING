{
 "cells": [
  {
   "cell_type": "code",
   "execution_count": 3,
   "metadata": {},
   "outputs": [
    {
     "name": "stdout",
     "output_type": "stream",
     "text": [
      "Error general :https://www.chessgames.com/perl/chess.pl?yearcomp=exactly&year=1900\n",
      "[]\n",
      "Proceso finalizado\n"
     ]
    }
   ],
   "source": [
    "import unittest\n",
    "import time\n",
    "import sys\n",
    "import traceback\n",
    "import requests\n",
    "\n",
    "from bs4 import BeautifulSoup\n",
    "from lxml import etree\n",
    "\n",
    "#test\n",
    "def list_chess_game(pyear):\n",
    "    try:\n",
    "        BASE_URL = \"https://www.chessgames.com\" \n",
    "        url = f\"{BASE_URL}/perl/chess.pl?yearcomp=exactly&year=\"\n",
    "        cnt = 1\n",
    "        games = [] \n",
    "    \n",
    "        time.sleep(3)\n",
    "        tic = time.perf_counter()\n",
    "        link = f\"{url}{pyear}\"\n",
    "        reps = requests.get(link)\n",
    "        toc = time.perf_counter()\n",
    "            \n",
    "        #leer el contenido de la pagina\n",
    "        html = reps.content\n",
    "        if (html):  \n",
    "            soup = BeautifulSoup(html,'html.parser')\n",
    "            tbs_parent = soup.find_all(\"table\")\n",
    "            tbs_child  = tbs_parent[1].find_all(\"table\")\n",
    "            rows   = tbs_child[1].find_all('tr')\n",
    "            for row in rows:\n",
    "                cols = row.find_all('td')\n",
    "                alla  = cols[0].find_all('a')\n",
    "                for a in alla:\n",
    "                    games.append(f\"{BASE_URL}{a.attrs.get('href')}\")\n",
    "                                     \n",
    "        return games          \n",
    "    except ValueError:\n",
    "            print(f\"Error de Valor :{link}\")\n",
    "            return games                     \n",
    "            #traceback.print_exception(*sys.exc_info())\n",
    "    except:    \n",
    "            print(f\"Error general :{link}\") \n",
    "            return games \n",
    "            #traceback.print_exception(*sys.exc_info())  \n",
    "\n",
    "def Load_write_game(link):\n",
    "    try:\n",
    "       #carga el archivo de los datos\n",
    "        file = open(\"chess_game.txt\",\"a\")\n",
    "        gid = 1000000\n",
    "        cnt = 1\n",
    "        pgns = []\n",
    "        \n",
    "        # cargar la pagina\n",
    "        time.sleep(3)\n",
    "        tic = time.perf_counter()\n",
    "        reps = requests.get(link)\n",
    "        toc = time.perf_counter()\n",
    "            \n",
    "        #leer el contenido de la pagina\n",
    "        html = reps.content\n",
    "        if (html):  \n",
    "            print(f\"Process {toc - tic+1:0.4} seconds url: {link}\")\n",
    "            soup = BeautifulSoup(html,'html.parser')\n",
    "            olga_data = soup.find_all(\"div\", attrs={\"id\":\"olga-data\"})\n",
    "\n",
    "            #Carga data\n",
    "            if(olga_data): \n",
    "               pgn = olga_data[0].attrs.get('pgn')\n",
    "               line = pgn.replace('\\n',' ').replace('\\r',' ')+'\\n'\n",
    "               file.write(line) \n",
    "            else :\n",
    "              print(\"Error de contenido\")\n",
    "\n",
    "        file.close()    \n",
    "    except ValueError:\n",
    "            file.close()\n",
    "            print(\"Error de Valor\")\n",
    "            traceback.print_exception(*sys.exc_info())\n",
    "    except:    \n",
    "            file.close()\n",
    "            print(\"Error de general\") \n",
    "            traceback.print_exception(*sys.exc_info())\n",
    "year = 1794\n",
    "year_end  = 1810\n",
    "                                 \n",
    "while(year <= year_end):\n",
    "  gameslinks = list_chess_game(year)\n",
    "  if(len(gameslinks)) > 0:                               \n",
    "      for gamelink in gameslinks:            \n",
    "          Load_write_date(gamelink)\n",
    "  year = year + 1                              \n",
    "print(\"Proceso finalizado\")"
   ]
  },
  {
   "cell_type": "code",
   "execution_count": null,
   "metadata": {},
   "outputs": [],
   "source": []
  },
  {
   "cell_type": "code",
   "execution_count": null,
   "metadata": {},
   "outputs": [],
   "source": []
  }
 ],
 "metadata": {
  "kernelspec": {
   "display_name": "Python 3",
   "language": "python",
   "name": "python3"
  },
  "language_info": {
   "codemirror_mode": {
    "name": "ipython",
    "version": 3
   },
   "file_extension": ".py",
   "mimetype": "text/x-python",
   "name": "python",
   "nbconvert_exporter": "python",
   "pygments_lexer": "ipython3",
   "version": "3.7.3"
  },
  "widgets": {
   "application/vnd.jupyter.widget-state+json": {
    "state": {},
    "version_major": 2,
    "version_minor": 0
   }
  }
 },
 "nbformat": 4,
 "nbformat_minor": 2
}
