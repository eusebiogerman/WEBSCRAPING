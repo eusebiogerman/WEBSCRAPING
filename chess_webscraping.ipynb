{
  "nbformat": 4,
  "nbformat_minor": 0,
  "metadata": {
    "kernelspec": {
      "display_name": "Python 3",
      "language": "python",
      "name": "python3"
    },
    "language_info": {
      "codemirror_mode": {
        "name": "ipython",
        "version": 3
      },
      "file_extension": ".py",
      "mimetype": "text/x-python",
      "name": "python",
      "nbconvert_exporter": "python",
      "pygments_lexer": "ipython3",
      "version": "3.7.3"
    },
    "colab": {
      "name": "chess_webscraping.ipynb",
      "provenance": []
    }
  },
  "cells": [
    {
      "cell_type": "code",
      "metadata": {
        "id": "gJzO_x_KcseQ",
        "outputId": "a343e9a6-68be-4dab-915f-13b6f69d341a",
        "colab": {
          "base_uri": "https://localhost:8080/"
        }
      },
      "source": [
        "import unittest\n",
        "import time\n",
        "import sys\n",
        "import traceback\n",
        "import requests\n",
        "import logging\n",
        "\n",
        "from console_progressbar import ProgressBar\n",
        "from bs4 import BeautifulSoup\n",
        "from lxml import etree\n",
        "\n",
        "#test\n",
        "def list_chess_game(pyear):\n",
        "    try:\n",
        "        BASE_URL = \"https://www.chessgames.com\" \n",
        "        url = f\"{BASE_URL}/perl/chess.pl?yearcomp=exactly&year=\"\n",
        "        cnt = 1\n",
        "        games = [] \n",
        "    \n",
        "        time.sleep(3)\n",
        "        tic = time.perf_counter()\n",
        "        link = f\"{url}{pyear}\"\n",
        "        reps = requests.get(link)\n",
        "        toc = time.perf_counter()\n",
        "            \n",
        "        #leer el contenido de la pagina\n",
        "        html = reps.content\n",
        "        if (html):  \n",
        "            soup = BeautifulSoup(html,'html.parser')\n",
        "            tbs_parent = soup.find_all(\"table\")\n",
        "            tbs_child  = tbs_parent[1].find_all(\"table\")\n",
        "            rows   = tbs_child[1].find_all('tr')\n",
        "            for row in rows:\n",
        "                cols = row.find_all('td')\n",
        "                alla  = cols[0].find_all('a')\n",
        "                for a in alla:\n",
        "                    games.append(f\"{BASE_URL}{a.attrs.get('href')}\")\n",
        "                                     \n",
        "        return games          \n",
        "    except ValueError:\n",
        "            print(f\"Error de Valor :{link}\")\n",
        "            return games                     \n",
        "            #traceback.print_exception(*sys.exc_info())\n",
        "    except:    \n",
        "            print(f\"Error general :{link}\") \n",
        "            return games \n",
        "            #traceback.print_exception(*sys.exc_info())  \n",
        "\n",
        "def Load_write_game(link):\n",
        "    \n",
        "    logging.basiConfig(filename = 'chessload.load', enconding ='utf-8',level=logging.INFO)\n",
        "    \n",
        "    try:\n",
        "       #carga el archivo de los datos\n",
        "        file = open(\"chess_game.txt\",\"a\")\n",
        "        gid = 1000000\n",
        "        cnt = 1\n",
        "        pgns = []\n",
        "        \n",
        "        # cargar la pagina\n",
        "        time.sleep(3)\n",
        "        tic = time.perf_counter()\n",
        "        reps = requests.get(link)\n",
        "        toc = time.perf_counter()\n",
        "            \n",
        "        #leer el contenido de la pagina\n",
        "        html = reps.content\n",
        "        if (html):  \n",
        "            loggin.info(f\"Process {toc - tic+1:0.4} seconds url: {link}\")\n",
        "            soup = BeautifulSoup(html,'html.parser')\n",
        "            olga_data = soup.find_all(\"div\", attrs={\"id\":\"olga-data\"})\n",
        "\n",
        "            #Carga data\n",
        "            if(olga_data): \n",
        "               pgn = olga_data[0].attrs.get('pgn')\n",
        "               line = pgn.replace('\\n',' ').replace('\\r',' ')+'\\n'\n",
        "               file.write(line) \n",
        "            else :\n",
        "              print(\"Error de contenido\")\n",
        "\n",
        "        file.close()    \n",
        "    except ValueError:\n",
        "            file.close()\n",
        "            print(\"Error de Valor\")\n",
        "            logging.error(*sys.exc_info())\n",
        "    except:    \n",
        "            file.close()\n",
        "            print(\"Error de general\") \n",
        "            logging.error(*sys.exc_info())\n",
        "year = 2012\n",
        "gameslinks = list_chess_game(year)\n",
        "cnt = len(gameslinks)\n",
        "pr =1\n",
        "pb = ProgressBar(total=cnt,prefix='Downloading Games ' + str(year), suffix=' ',decimals=2,length=5,fill='▐',zfill=' ')\n",
        "for game in gameslinks:\n",
        "    Load_write_game(game)\n",
        "    pb.print_progress_bar(pr)\n",
        "    pr = pr + 1\n",
        "  \n",
        "#print(gameslinks)                   \n",
        "print(\"Proceso finalizado\")"
      ],
      "execution_count": 13,
      "outputs": [
        {
          "output_type": "stream",
          "text": [
            "Error general :https://www.chessgames.com/perl/chess.pl?yearcomp=exactly&year=2013\n",
            "Proceso finalizado\n"
          ],
          "name": "stdout"
        }
      ]
    },
    {
      "cell_type": "code",
      "metadata": {
        "id": "4Vd1-rdWhjN4"
      },
      "source": [
        ""
      ],
      "execution_count": null,
      "outputs": []
    }
  ]
}